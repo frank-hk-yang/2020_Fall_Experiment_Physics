{
 "cells": [
  {
   "cell_type": "code",
   "execution_count": 95,
   "metadata": {},
   "outputs": [],
   "source": [
    "from math import cos, sin, log, log10\n",
    "import numpy as np\n",
    "from matplotlib import pyplot as plt\n",
    "pi = math.pi"
   ]
  },
  {
   "cell_type": "code",
   "execution_count": 18,
   "metadata": {},
   "outputs": [],
   "source": [
    "def deriv_func(x, h):\n",
    "    f1 = cos(x+h) + sin(x+h)\n",
    "    f2 = cos(x-h) + sin(x-h)\n",
    "    deriv = (f1 - f2)/(2*h)\n",
    "    return deriv"
   ]
  },
  {
   "cell_type": "code",
   "execution_count": 103,
   "metadata": {},
   "outputs": [],
   "source": [
    "def deriv_func_1(x, h):\n",
    "    f1 = cos(x+h) + sin(x+h)\n",
    "    f2 = cos(x) + sin(x)\n",
    "    deriv = (f1 - f2)/(h)\n",
    "    return deriv"
   ]
  },
  {
   "cell_type": "code",
   "execution_count": 104,
   "metadata": {},
   "outputs": [
    {
     "data": {
      "text/plain": [
       "0.9949833750831916"
      ]
     },
     "execution_count": 104,
     "metadata": {},
     "output_type": "execute_result"
    }
   ],
   "source": [
    "deriv_func_1(0, 10**(-2))"
   ]
  },
  {
   "cell_type": "markdown",
   "metadata": {},
   "source": [
    "### Calculate Error"
   ]
  },
  {
   "cell_type": "code",
   "execution_count": 108,
   "metadata": {},
   "outputs": [
    {
     "data": {
      "text/plain": [
       "([0.0016658335317190076,\n",
       "  1.6666583334767893e-05,\n",
       "  1.6666662405739885e-07,\n",
       "  1.6671100055987154e-09,\n",
       "  1.565336749109747e-11,\n",
       "  2.6755486715046572e-11,\n",
       "  5.26355847796367e-10,\n",
       "  5.26355847796367e-10,\n",
       "  2.7229219767832546e-08,\n",
       "  8.274037099909037e-08,\n",
       "  8.274037099909037e-08,\n",
       "  3.3389431109753787e-05,\n",
       "  0.00024416632504653535,\n",
       "  0.0007992778373591136,\n",
       "  0.05471187339389871,\n",
       "  0.44488848768742173,\n",
       "  1.0,\n",
       "  1.0,\n",
       "  1.0,\n",
       "  1.0],\n",
       " [0.0516241807514608,\n",
       "  0.005016624916808432,\n",
       "  0.0005001666248940495,\n",
       "  5.000166736124356e-05,\n",
       "  5.000016067069346e-06,\n",
       "  5.001267169291168e-07,\n",
       "  5.048639195592841e-08,\n",
       "  6.07747097092215e-09,\n",
       "  8.274037099909037e-08,\n",
       "  8.274037099909037e-08,\n",
       "  8.274037099909037e-08,\n",
       "  8.890058234101161e-05,\n",
       "  0.0007992778373591136,\n",
       "  0.0007992778373591136,\n",
       "  0.11022302462515654,\n",
       "  1.0,\n",
       "  1.0,\n",
       "  1.0,\n",
       "  1.0,\n",
       "  1.0])"
      ]
     },
     "execution_count": 108,
     "metadata": {},
     "output_type": "execute_result"
    }
   ],
   "source": [
    "e = list(range(-1, -21, -1))\n",
    "err_list = []\n",
    "err_list_1 = []\n",
    "for _ in e:\n",
    "    f = 10**(_)\n",
    "    err = abs(deriv_func(0, f) - 1)\n",
    "    err_1 = abs(deriv_func_1(0, f) - 1)\n",
    "    err_list.append(err)\n",
    "    err_list_1.append(err_1)\n",
    "err_list, err_list_1"
   ]
  },
  {
   "cell_type": "code",
   "execution_count": 115,
   "metadata": {},
   "outputs": [
    {
     "data": {
      "image/png": "[encoded data removed]",
      "text/plain": [
       "<Figure size 432x288 with 1 Axes>"
      ]
     },
     "metadata": {
      "needs_background": "light"
     },
     "output_type": "display_data"
    }
   ],
   "source": [
    "# new_e = [abs(_) for _ in e]\n",
    "# new_err_list = [ log(_) for _ in err_list]\n",
    "new_e = e[::-1]\n",
    "new_err_list = [log10(_) for _ in err_list][::-1]\n",
    "new_err_list_1 = [log10(_) for _ in err_list_1][::-1]\n",
    "deriv,  = plt.plot(new_e, new_err_list, color='blue', label=r'$f^\\prime(x)=\\frac{f(x+h)-f(x-h)}{2h}$')\n",
    "deriv1, = plt.plot(new_e, new_err_list_1, color='red', label=r'$f^\\prime(x)=\\frac{f(x+h)-f(x)}{h}$')\n",
    "plt.xticks(np.arange(-20, 1, 1), \\\n",
    "           labels=[-20,'','','','',-15,'','','','',-10,'','','','',-5,'','','',''])\n",
    "slop = (new_err_list[-1] - new_err_list[-5])/(-1 - (-5))\n",
    "slop1 = (new_err_list_1[-1] - new_err_list_1[-5])/(-1 - (-5))\n",
    "plt.legend(handles=[deriv, deriv1])\n",
    "plt.text(-4.8, -7, 'Slop=%1.1f'%slop)\n",
    "plt.text(-7, -5, 'Slop=%1.1f'%slop1)\n",
    "plt.title(r'Errors by Different $\\delta$')\n",
    "plt.xlabel(r'$x$ in $\\delta=10^{x}$')\n",
    "plt.ylabel('Errors')\n",
    "plt.grid()\n",
    "plt.savefig('error.png')\n",
    "plt.show()\n",
    "plt.close()"
   ]
  }
 ],
 "metadata": {
  "kernelspec": {
   "display_name": "Python 3",
   "language": "python",
   "name": "python3"
  },
  "language_info": {
   "codemirror_mode": {
    "name": "ipython",
    "version": 3
   },
   "file_extension": ".py",
   "mimetype": "text/x-python",
   "name": "python",
   "nbconvert_exporter": "python",
   "pygments_lexer": "ipython3",
   "version": "3.7.3"
  }
 },
 "nbformat": 4,
 "nbformat_minor": 4
}
