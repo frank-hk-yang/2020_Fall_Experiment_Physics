{
 "cells": [
  {
   "cell_type": "code",
   "execution_count": 2,
   "metadata": {},
   "outputs": [
    {
     "data": {
      "text/plain": [
       "(3.141592653589793, 2.718281828459045)"
      ]
     },
     "execution_count": 2,
     "metadata": {},
     "output_type": "execute_result"
    }
   ],
   "source": [
    "import math\n",
    "from math import cos, sin, log, log10, pi\n",
    "from decimal import Decimal as D\n",
    "import numpy as np\n",
    "from matplotlib import pyplot as plt\n",
    "pi, math.e"
   ]
  },
  {
   "cell_type": "code",
   "execution_count": 3,
   "metadata": {},
   "outputs": [],
   "source": [
    "import time as tt\n",
    "from datetime import datetime\n",
    "\n",
    "def asHoursMins(s):\n",
    "    h = math.floor(s / 3600)\n",
    "    s -= h * 3600\n",
    "    m = math.floor(s / 60)\n",
    "    s -= m * 60\n",
    "    return '%2dh %2dm %2ds' % (h, m, s)\n",
    "\n",
    "# For the use of decorator, refer to the following two links:\n",
    "#\n",
    "# https://medium.com/citycoddee/python%E9%80%B2%E9%9A%8E%E6%8A%80%E5%B7%A7-3-%E7%A5%9E%E5%A5%87%E5%8F%88%E7%BE%8E%E5%A5%BD%E7%9A%84-decorator-%E5%97%B7%E5%97%9A-6559edc87bc0\n",
    "# https://dev.to/apcelent/python-decorator-tutorial-with-example-529f\n",
    "\n",
    "class code_timer:\n",
    "    def __init__(self, func):\n",
    "        self.code_func = func\n",
    "        self.code_name = func.__name__\n",
    "        \n",
    "    def __call__(self, *args, **kwargs):\n",
    "        start_time = datetime.fromtimestamp(tt.time())\n",
    "        print('Begin running %s at %s ...'%\\\n",
    "              (self.code_name, start_time.strftime(\"%Y-%m-%d %H:%M:%S\")))\n",
    "        result = self.code_func(*args, **kwargs)\n",
    "        stop_time = datetime.fromtimestamp(tt.time())\n",
    "        train_time = (stop_time - start_time).total_seconds()\n",
    "        print('Done running at %s!'%\\\n",
    "              (stop_time.strftime(\"%Y-%m-%d %H:%M:%S\")))\n",
    "        print('Total running time : %s'%(asHoursMins(train_time)))\n",
    "        return result"
   ]
  },
  {
   "cell_type": "markdown",
   "metadata": {},
   "source": [
    "### Check Two Particles in 3D Space with Sun and Earth Motion Data"
   ]
  },
  {
   "cell_type": "code",
   "execution_count": 4,
   "metadata": {},
   "outputs": [],
   "source": [
    "# setting\n",
    "mass_sun = 1.9891e30\n",
    "mass_earth = mass_sun / 332946.\n",
    "mass = (mass_sun * mass_earth) / (mass_sun + mass_earth)\n",
    "G = 6.67384e-11\n",
    "fac_GMm = G * mass_sun * mass_earth    # the factor for gravitational system of sun and earth\n",
    "fac = fac_GMm\n",
    "\n",
    "\n",
    "AU = 1.495978707e11\n",
    "day = 60. * 60. * 24\n",
    "\n",
    "T_max = 365. * day\n",
    "dt = .001 * day\n",
    "t = 0.0\n",
    "\n",
    "# fac = 1  # the factor for testing circular motion\n",
    "# mass = 1.\n",
    "# T_max = 10.\n",
    "# dt = 0.001\n",
    "# t = 0.\n",
    "decimal_place = [-1, -8]  # Define the range of decimal place"
   ]
  },
  {
   "cell_type": "code",
   "execution_count": 5,
   "metadata": {},
   "outputs": [],
   "source": [
    "# The unit of velocity is AU / day\n",
    "x, y, z = map(lambda x: x * AU, (1.160148e-1, -9.266055e-1, -4.018062e-1))\n",
    "vx, vy, vz = map(lambda x: x * AU / day, (1.681162e-2, 1.743130e-3, 7.599750e-4))  \n",
    "earth_x = (x, y, z)\n",
    "earth_v = (vx, vy, vz)"
   ]
  },
  {
   "cell_type": "code",
   "execution_count": 6,
   "metadata": {},
   "outputs": [],
   "source": [
    "# Consider gravitation and in 3D space\n",
    "def force(x, y, z):\n",
    "    r = (x * x + y * y + z * z)**0.5\n",
    "    f = -1 * fac / (r**3)\n",
    "    fx = f * x\n",
    "    fy = f * y\n",
    "    fz = f * z\n",
    "    return fx, fy, fz"
   ]
  },
  {
   "cell_type": "code",
   "execution_count": 7,
   "metadata": {},
   "outputs": [],
   "source": [
    "# Gravitational potential in 3D space\n",
    "def potential(x, y, z):\n",
    "    r = (x * x + y * y + z * z)**0.5\n",
    "    p = -1 * fac / r\n",
    "    return p"
   ]
  },
  {
   "cell_type": "code",
   "execution_count": 8,
   "metadata": {},
   "outputs": [],
   "source": [
    "# Kinetic energy in 3D space\n",
    "def kinetic_energy(m, vx, vy, vz):\n",
    "    k = 0.5 * m * (vx * vx + vy * vy + vz * vz)\n",
    "    return k"
   ]
  },
  {
   "cell_type": "code",
   "execution_count": 9,
   "metadata": {},
   "outputs": [],
   "source": [
    "def varlet_velocity_3D(t=0.0, x=1.0, y=0.0, z=0.0,\\\n",
    "                       vx=0.0, vy=0.0, vz=0.0,\\\n",
    "                       dt=0.001, t_final=T_max, m=mass, force=force):\n",
    "    # Must ensure it can run single step calculation.\n",
    "    # That is, when t = t_0, t_final = t_0 + dt, the result must be correct.\n",
    "    \n",
    "    x_lst = []\n",
    "    v_lst = []\n",
    "    x_lst.append((x, y ,z))\n",
    "    v_lst.append((vx, vy, vz))\n",
    "    \n",
    "    time = D(str(t))\n",
    "    t_final = D(str(t_final))\n",
    "    dt_t = D(str(dt))\n",
    "    \n",
    "    # Warning 1: never use np.arange to iterate over float steps\n",
    "    # because sometimes it will abnormaly include stop condition,\n",
    "    # which is the result that we do not want it happen.\n",
    "    #\n",
    "    # Warning 2: even if you add step size to time iteratively,\n",
    "    # there is still an inherent error, i.e. floating-point approximation\n",
    "    # error, which is due to the non-exact representation from\n",
    "    # the binary floating point standard(IEEE-754). The workaround\n",
    "    # is to use the decimal.Decimal(str(float_number)) in iteration.\n",
    "    \n",
    "    while (time < t_final):\n",
    "        time += dt_t\n",
    "        fx, fy, fz = force(x, y, z)\n",
    "        vx, vy, vz = map(lambda f, v : v + f / (2 * m) * dt, (fx, fy, fz), (vx, vy, vz))\n",
    "        x, y, z = map(lambda x, v : x + v * dt, (x, y, z), (vx, vy, vz))\n",
    "        fx, fy, fz = force(x, y, z)\n",
    "        vx, vy, vz = map(lambda f, v : v + f / (2 * m) * dt, (fx, fy, fz), (vx, vy, vz))\n",
    "#         print(dt, (x, y, z), (vx, vy, vz))\n",
    "        x_lst.append((x, y, z))\n",
    "        v_lst.append((vx, vy, vz))\n",
    "    return x_lst, v_lst"
   ]
  },
  {
   "cell_type": "code",
   "execution_count": 10,
   "metadata": {},
   "outputs": [
    {
     "data": {
      "text/plain": [
       "365001"
      ]
     },
     "execution_count": 10,
     "metadata": {},
     "output_type": "execute_result"
    }
   ],
   "source": [
    "x_lst, v_lst = varlet_velocity_3D(x=earth_x[0], y=earth_x[1], z=earth_x[2],\\\n",
    "                                  vx=earth_v[0], vy=earth_v[1], vz=earth_v[2],\\\n",
    "                                  m=mass_earth, dt=dt, force=force)\n",
    "len(x_lst)"
   ]
  },
  {
   "cell_type": "code",
   "execution_count": 11,
   "metadata": {},
   "outputs": [],
   "source": [
    "x_, y_, z_ = zip(*x_lst)\n",
    "vx_, vy_, vz_ = zip(*v_lst)\n",
    "x_, y_, z_ = map(lambda a: [i / AU for i in a], (x_, y_, z_))"
   ]
  },
  {
   "cell_type": "code",
   "execution_count": 12,
   "metadata": {},
   "outputs": [
    {
     "data": {
      "text/plain": [
       "(365001, 365001, 365001)"
      ]
     },
     "execution_count": 12,
     "metadata": {},
     "output_type": "execute_result"
    }
   ],
   "source": [
    "len(x_), len(y_), len(z_)"
   ]
  },
  {
   "cell_type": "code",
   "execution_count": 13,
   "metadata": {},
   "outputs": [
    {
     "data": {
      "image/png": "[encoded data removed]",
      "text/plain": [
       "<Figure size 720x720 with 3 Axes>"
      ]
     },
     "metadata": {
      "needs_background": "light"
     },
     "output_type": "display_data"
    }
   ],
   "source": [
    "fig, ax1 = plt.subplots(3, 1, figsize=(10, 10))\n",
    "ax1[0].set_xlabel('time step')\n",
    "ax1[1].set_xlabel('time step')\n",
    "ax1[2].set_xlabel('time step')\n",
    "# ax1.set_ylabel('position', color='b')\n",
    "x__, = ax1[0].plot(np.arange(0.0, T_max, dt), x_[:-1], label='x', color='steelblue')\n",
    "# x_e, = ax1[0][1].plot(np.arange(0.0, T_max, dt), x_exact[:-1], label='x (exact)', color='maroon')\n",
    "y__, = ax1[1].plot(np.arange(0.0, T_max, dt), y_[:-1], label='y', color='steelblue')\n",
    "# y_e, = ax1[1][1].plot(np.arange(0.0, T_max, dt), y_exact[:-1], label='y (exact)', color='maroon')\n",
    "z__, = ax1[2].plot(np.arange(0.0, T_max, dt), y_[:-1], label='z', color='steelblue')\n",
    "\n",
    "# ax1[0][0].tick_params(axis='y', labelcolor='steelblue')\n",
    "# ax1[0][1].tick_params(axis='y', labelcolor='maroon')\n",
    "# ax1[1][0].tick_params(axis='y', labelcolor='steelblue')\n",
    "# ax1[1][1].tick_params(axis='y', labelcolor='maroon')\n",
    "\n",
    "# ax2 = ax1[0][0].twinx()\n",
    "# vel, = ax2.plot(np.arange(0.0, T_max, dt), vx_[:-1], label='velocity', color='darkorange')\n",
    "# ax2.tick_params(axis='y', labelcolor='darkorange')\n",
    "ax1[0].legend()\n",
    "ax1[1].legend()\n",
    "ax1[2].legend()\n",
    "ax1[0].grid(axis='both')\n",
    "ax1[1].grid(axis='both')\n",
    "ax1[2].grid(axis='both')\n",
    "\n",
    "# plt.legend(handles=[pos, vel])\n",
    "# plt.grid(axis='both')\n",
    "plt.savefig('xv.png')\n",
    "plt.show()"
   ]
  },
  {
   "cell_type": "markdown",
   "metadata": {},
   "source": [
    "### Calculate If Period of Earth Rotation Around Sun Is Equal to 365 "
   ]
  },
  {
   "cell_type": "code",
   "execution_count": 21,
   "metadata": {},
   "outputs": [],
   "source": [
    "@code_timer\n",
    "def calculate_period(t=0.0, x=2.0, v=0.0, dt=0.001, t_final=T_max, m=mass_earth, force=force):\n",
    "    x0 = x\n",
    "    dot_product_max = 0.\n",
    "    \n",
    "    begin_time = 0\n",
    "    end_time = 0\n",
    "    counter = 0\n",
    "    period = 0\n",
    "    \n",
    "    time = D(str(t))\n",
    "    t_final = D(str(t_final))\n",
    "    dt_t = D(str(dt))\n",
    "    \n",
    "    while (time < t_final):\n",
    "        x_old, v_old = x, v\n",
    "        x_l, v_l = varlet_velocity_3D(t=time, x=x_old[0], y=x_old[1], z=x_old[2],\\\n",
    "                                      vx=v_old[0], vy=v_old[1], vz=v_old[2], dt=dt,\\\n",
    "                                      t_final=time+dt_t,\\\n",
    "                                      m=m, force=force)\n",
    "        x, v = x_l[-1], v_l[-1]\n",
    "        \n",
    "        time += dt_t\n",
    "        if (float(time) / day) > 350:\n",
    "            dot_product = x0[0] * x[0] + x0[1] * x[1] + x0[2] * x[2]\n",
    "            if dot_product >= dot_product_max:\n",
    "                dot_product_max = dot_product\n",
    "                end_time = time\n",
    "        \n",
    "    period = float(end_time - begin_time) / day\n",
    "    return period"
   ]
  },
  {
   "cell_type": "code",
   "execution_count": 30,
   "metadata": {},
   "outputs": [
    {
     "name": "stdout",
     "output_type": "stream",
     "text": [
      "Begin running calculate_period at 2020-12-07 17:44:03 ...\n",
      "Done running at 2020-12-07 17:44:05!\n",
      "Total running time :  0h  0m  1s\n"
     ]
    }
   ],
   "source": [
    "earth_period = calculate_period(x=earth_x, v=earth_v, dt=dt, t_final=1.1*T_max, m=mass)"
   ]
  },
  {
   "cell_type": "code",
   "execution_count": 31,
   "metadata": {},
   "outputs": [
    {
     "data": {
      "text/plain": [
       "365.172"
      ]
     },
     "execution_count": 31,
     "metadata": {},
     "output_type": "execute_result"
    }
   ],
   "source": [
    "earth_period"
   ]
  },
  {
   "cell_type": "markdown",
   "metadata": {},
   "source": [
    "### Center of Mass Frame"
   ]
  },
  {
   "cell_type": "code",
   "execution_count": null,
   "metadata": {},
   "outputs": [],
   "source": []
  },
  {
   "cell_type": "markdown",
   "metadata": {},
   "source": [
    "### Check $x$ Coordinate Error in 3D Space and Plot"
   ]
  },
  {
   "cell_type": "code",
   "execution_count": 78,
   "metadata": {},
   "outputs": [],
   "source": [
    "def compute_3D_x_error(init_time=0.0, t_final=2.):\n",
    "    exponent = list(range(decimal_place[0], decimal_place[1], -1))\n",
    "    x_error = []\n",
    "    \n",
    "    x_exact = exact_solution_3D(t_final=t_final)\n",
    "    x_exact, y_exact, z_exact = zip(*x_exact)\n",
    "    x_e = x_exact[-1]\n",
    "#     print(x_e)\n",
    "    \n",
    "    for _ in exponent:\n",
    "        dt = 10**(_)        \n",
    "        x_l, v_l = varlet_velocity_3D(t=init_time, x=1, vy=1,\\\n",
    "                                      dt=dt, t_final=t_final)\n",
    "        x = x_l[-1][0]\n",
    "#         print(dt, x)\n",
    "        delta_x = abs((x - x_e) / x_e)\n",
    "        x_error.append(delta_x)\n",
    "    return x_error"
   ]
  },
  {
   "cell_type": "code",
   "execution_count": 77,
   "metadata": {},
   "outputs": [
    {
     "name": "stdout",
     "output_type": "stream",
     "text": [
      "-0.4161468365471424\n",
      "-0.41568923106611694\n",
      "-0.4161422906274114\n",
      "-0.41614679109099123\n",
      "-0.4161468360925899\n",
      "-0.4161468365425723\n",
      "-0.41614683654702406\n",
      "-0.41614683654718226\n"
     ]
    },
    {
     "data": {
      "text/plain": [
       "[0.0010996250381771922,\n",
       " 1.0923835847699714e-05,\n",
       " 1.0923103862477662e-07,\n",
       " 1.0922887472055775e-09,\n",
       " 1.0981993991558979e-11,\n",
       " 2.8439426671367874e-13,\n",
       " 9.577630558181113e-14]"
      ]
     },
     "execution_count": 77,
     "metadata": {},
     "output_type": "execute_result"
    }
   ],
   "source": [
    "x_error = compute_3D_x_error()\n",
    "x_error"
   ]
  },
  {
   "cell_type": "code",
   "execution_count": 83,
   "metadata": {},
   "outputs": [
    {
     "data": {
      "image/png": "[encoded data removed]",
      "text/plain": [
       "<Figure size 432x288 with 1 Axes>"
      ]
     },
     "metadata": {
      "needs_background": "light"
     },
     "output_type": "display_data"
    }
   ],
   "source": [
    "def get_slop(err_list):\n",
    "    x_big = -1\n",
    "    x_small = 0 - len(err_list) + 2\n",
    "    slop = (err_list[x_big] - err_list[x_small]) / (x_big - x_small)\n",
    "    return slop\n",
    "\n",
    "new_e = list(range(decimal_place[0], decimal_place[1], -1))[::-1]\n",
    "new_x_error = [log10(_) for _ in x_error[::-1]]\n",
    "slop = get_slop(new_x_error)\n",
    "\n",
    "color_list = ['', 'maroon', 'orange', 'lightgreen', 'steelblue', 'darkorchid']\n",
    "\n",
    "x_error_h, = plt.plot(new_e, new_x_error, color=color_list[4], label=r'x error, slop=%1.1f'%slop)\n",
    "plt.legend(handles=[x_error_h])\n",
    "plt.title(r'x error in 3D space')\n",
    "plt.xlabel(r'$x$ in $dt=10^{x}$')\n",
    "plt.ylabel('Log Errors')\n",
    "plt.grid()\n",
    "plt.savefig('delta_x_error.png')\n",
    "plt.show()\n",
    "plt.close()"
   ]
  }
 ],
 "metadata": {
  "kernelspec": {
   "display_name": "Python 3",
   "language": "python",
   "name": "python3"
  },
  "language_info": {
   "codemirror_mode": {
    "name": "ipython",
    "version": 3
   },
   "file_extension": ".py",
   "mimetype": "text/x-python",
   "name": "python",
   "nbconvert_exporter": "python",
   "pygments_lexer": "ipython3",
   "version": "3.7.3"
  }
 },
 "nbformat": 4,
 "nbformat_minor": 4
}
