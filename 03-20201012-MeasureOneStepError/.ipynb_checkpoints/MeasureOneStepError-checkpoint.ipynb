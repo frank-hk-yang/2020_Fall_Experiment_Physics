{
 "cells": [
  {
   "cell_type": "code",
   "execution_count": 15,
   "metadata": {},
   "outputs": [
    {
     "data": {
      "text/plain": [
       "(3.141592653589793, 2.718281828459045)"
      ]
     },
     "execution_count": 15,
     "metadata": {},
     "output_type": "execute_result"
    }
   ],
   "source": [
    "import math\n",
    "from math import cos, sin, log, log10, pi\n",
    "import numpy as np\n",
    "from matplotlib import pyplot as plt\n",
    "pi, math.e"
   ]
  },
  {
   "cell_type": "code",
   "execution_count": 16,
   "metadata": {},
   "outputs": [],
   "source": [
    "# setting\n",
    "mass = 1.0   \n",
    "T_max = 10.0    # final time\n",
    "dt = 0.001        # time step\n",
    "k = 1.0          # force constant"
   ]
  },
  {
   "cell_type": "code",
   "execution_count": 4,
   "metadata": {},
   "outputs": [],
   "source": [
    "def const_force(x):\n",
    "    return 1.0"
   ]
  },
  {
   "cell_type": "code",
   "execution_count": 17,
   "metadata": {},
   "outputs": [],
   "source": [
    "# Harmonic oscillation\n",
    "def force(x):\n",
    "    return -x"
   ]
  },
  {
   "cell_type": "code",
   "execution_count": 18,
   "metadata": {},
   "outputs": [],
   "source": [
    "def varlet_velocity(t=0.0, x=1.0, v=0.0, dt=0.001, t_final=T_max):\n",
    "    x_lst = []\n",
    "    v_lst = []\n",
    "    x_lst.append(x)\n",
    "    v_lst.append(v)\n",
    "    for i in np.arange(t, t_final, dt):\n",
    "        f = force(x)\n",
    "        v = v + f/(2 * mass) * dt\n",
    "        x = x + v * dt\n",
    "        f = force(x)\n",
    "        v = v + f/(2 * mass) * dt\n",
    "#         print(dt, x, v)\n",
    "        x_lst.append(x)\n",
    "        v_lst.append(v)\n",
    "    return x_lst, v_lst"
   ]
  },
  {
   "cell_type": "code",
   "execution_count": 19,
   "metadata": {},
   "outputs": [],
   "source": [
    "x_lst, v_lst = varlet_velocity(dt=dt)"
   ]
  },
  {
   "cell_type": "code",
   "execution_count": 20,
   "metadata": {},
   "outputs": [
    {
     "data": {
      "image/png": "[encoded data removed]",
      "text/plain": [
       "<Figure size 432x288 with 2 Axes>"
      ]
     },
     "metadata": {},
     "output_type": "display_data"
    }
   ],
   "source": [
    "fig, ax1 = plt.subplots()\n",
    "ax1.set_xlabel('time step')\n",
    "# ax1.set_ylabel('position', color='b')\n",
    "pos, = ax1.plot(np.arange(0.0, T_max, dt), x_lst[:-1], label='position', color='steelblue')\n",
    "ax1.tick_params(axis='y', labelcolor='steelblue')\n",
    "\n",
    "ax2 = ax1.twinx()\n",
    "vel, = ax2.plot(np.arange(0.0, T_max, dt), v_lst[:-1], label='velocity', color='darkorange')\n",
    "ax2.tick_params(axis='y', labelcolor='darkorange')\n",
    "plt.legend(handles=[pos, vel])\n",
    "plt.grid(axis='both')\n",
    "plt.savefig('xv.png')\n",
    "plt.show()"
   ]
  },
  {
   "cell_type": "markdown",
   "metadata": {},
   "source": [
    "### Plot Position Error and Velocity Erros with Different $dt$"
   ]
  },
  {
   "cell_type": "code",
   "execution_count": 21,
   "metadata": {},
   "outputs": [],
   "source": [
    "# Define the range of decimal place\n",
    "decimal_place = [-1, -7]"
   ]
  },
  {
   "cell_type": "code",
   "execution_count": 22,
   "metadata": {},
   "outputs": [],
   "source": [
    "# Exact solution of x(t) and v(t) given x_0 and v_0\n",
    "# x(t) = x_0 + v_0 * t + 1/2 * a * t^2\n",
    "# v(t) = v_0 + a * t\n",
    "def exact_pos_vec(t, x=1.0, v=0.0, a=1.0):\n",
    "    x_t = x + v * t + (a * (t**2))/2\n",
    "    v_t = v + a * t\n",
    "    return x_t, v_t"
   ]
  },
  {
   "cell_type": "code",
   "execution_count": 28,
   "metadata": {},
   "outputs": [],
   "source": [
    "def compute_error(exact_fun=exact_pos_vec, decimal_place=[-1, -7], t_final=T_max,\\\n",
    "                  flag_single_step=False, single_time=0.3):    \n",
    "    e = list(range(decimal_place[0], decimal_place[1], -1))\n",
    "    err_position = []\n",
    "    err_velocity = []\n",
    "    for _ in e:\n",
    "        f = 10**(_)\n",
    "        # if flag_single_step is set to True, then t_final is ignored\n",
    "        if not flag_single_step:\n",
    "            num_x_lst, num_v_lst = varlet_velocity(t=0.3, dt=f, t_final=0.3+f/2)\n",
    "            exact_x, exact_v = exact_fun(0.3+f)\n",
    "        else:\n",
    "            num_x_lst, num_v_lst = varlet_velocity(t=single_time,\\\n",
    "                                                   x=exact_fun(single_time)[0], \\\n",
    "                                                   v=exact_fun(single_time)[1], \\\n",
    "                                                   dt=f, t_final=(single_time+f/2))\n",
    "            exact_x, exact_v = exact_fun(single_time)\n",
    "        # relative error\n",
    "        err_x = abs((num_x_lst[-1] - exact_x) / exact_x)\n",
    "        err_v = abs((num_v_lst[-1] - exact_v) / exact_v)\n",
    "        err_position.append(err_x)\n",
    "        err_velocity.append(err_v)\n",
    "    return err_position, err_velocity"
   ]
  },
  {
   "cell_type": "code",
   "execution_count": null,
   "metadata": {},
   "outputs": [],
   "source": [
    "err_position, err_velocity = compute_error()\n",
    "err_position, err_velocity"
   ]
  },
  {
   "cell_type": "code",
   "execution_count": 29,
   "metadata": {},
   "outputs": [
    {
     "data": {
      "text/plain": [
       "([0.08027590624132248,\n",
       "  0.04999973918802518,\n",
       "  0.047075500054253164,\n",
       "  0.046783982361319115,\n",
       "  0.046754839530248976,\n",
       "  0.04675192533640037],\n",
       " [0.7438487375591086,\n",
       "  0.9672202363565803,\n",
       "  0.9966270396596645,\n",
       "  0.9996617230187237,\n",
       "  0.9999661624602566,\n",
       "  0.9999966161475773])"
      ]
     },
     "execution_count": 29,
     "metadata": {},
     "output_type": "execute_result"
    }
   ],
   "source": [
    "err_position, err_velocity = compute_error(decimal_place=decimal_place, exact_fun=exact_harmonic_pos_vec)\n",
    "err_position, err_velocity"
   ]
  },
  {
   "cell_type": "code",
   "execution_count": 172,
   "metadata": {},
   "outputs": [
    {
     "data": {
      "text/plain": [
       "(0.8775825618903728, 0.479425538604203)"
      ]
     },
     "execution_count": 172,
     "metadata": {},
     "output_type": "execute_result"
    }
   ],
   "source": [
    "cos(0.5), sin(0.5)"
   ]
  },
  {
   "cell_type": "code",
   "execution_count": 275,
   "metadata": {},
   "outputs": [
    {
     "name": "stdout",
     "output_type": "stream",
     "text": [
      "0.1 0.8252520952205006 -0.5645672714597467\n",
      "0.01 0.8727444273762363 -0.4881771735505361\n",
      "0.001 0.8771026975604876 -0.48030288123392845\n",
      "0.0001 0.8775346149485995 -0.4795132944630449\n",
      "1e-05 0.8775777675911076 -0.4794343144058504\n",
      "1e-06 0.8775820824643954 -0.47942641618652515\n",
      "1e-07 0.8775825139478145 -0.47942562636245684\n",
      "1e-08 0.8775825570961173 -0.4794255473800286\n"
     ]
    },
    {
     "data": {
      "text/plain": [
       "([0.05963024898437906,\n",
       "  0.005513024898437855,\n",
       "  0.0005468024898437535,\n",
       "  5.4635248984386034e-05,\n",
       "  5.46307489840683e-06,\n",
       "  5.463029898058283e-07,\n",
       "  5.4630253993897275e-08,\n",
       "  5.463024956607389e-09],\n",
       " [0.17759115024081717,\n",
       "  0.018254419595194155,\n",
       "  0.0018299872640905454,\n",
       "  0.000183043771713541,\n",
       "  1.8304827216601427e-05,\n",
       "  1.8304872216448373e-06,\n",
       "  1.830487672518655e-07,\n",
       "  1.830487722306981e-08])"
      ]
     },
     "execution_count": 275,
     "metadata": {},
     "output_type": "execute_result"
    }
   ],
   "source": [
    "err_position, err_velocity = compute_error(exact_fun=exact_harmonic_pos_vec,\\\n",
    "                                           decimal_place=decimal_place,\\\n",
    "                                           flag_single_step=True, single_time=0.5) \n",
    "err_position, err_velocity"
   ]
  },
  {
   "cell_type": "code",
   "execution_count": 284,
   "metadata": {},
   "outputs": [
    {
     "data": {
      "text/plain": [
       "(8, 6)"
      ]
     },
     "execution_count": 284,
     "metadata": {},
     "output_type": "execute_result"
    }
   ],
   "source": [
    "len(new_e), len(new_err_position)"
   ]
  },
  {
   "cell_type": "code",
   "execution_count": 30,
   "metadata": {},
   "outputs": [
    {
     "data": {
      "image/png": "[encoded data removed]",
      "text/plain": [
       "<Figure size 432x288 with 1 Axes>"
      ]
     },
     "metadata": {
      "needs_background": "light"
     },
     "output_type": "display_data"
    }
   ],
   "source": [
    "# new_e = e[::-1]\n",
    "new_e = list(range(decimal_place[0], decimal_place[1], -1))[::-1]\n",
    "new_err_position = [log10(_) for _ in err_position][::-1]\n",
    "new_err_velocity = [log10(_) for _ in err_velocity][::-1]\n",
    "err_pos, = plt.plot(new_e, new_err_position, color='steelblue', label=r'Position Error')\n",
    "err_vel, = plt.plot(new_e, new_err_velocity, color='darkorange', label=r'Velocity Error')\n",
    "\n",
    "######\n",
    "# error bwteen numerical at (T_max - dt) and exact at T_max\n",
    "######\n",
    "# tt_new_err_position = [log10(_) for _ in test_pos_err][::-1]\n",
    "# tt_new_err_velocity = [log10(_) for _ in test_vel_err][::-1]\n",
    "# tt_err_pos, = plt.plot(new_e, tt_new_err_position, color='blue', label=r'Test Position Error')\n",
    "# tt_err_vel, = plt.plot(new_e, tt_new_err_velocity, color='red', label=r'Test Velocity Error')\n",
    "\n",
    "# plt.xticks(np.arange(-20, 1, 1), \\\n",
    "#            labels=[-20,'','','','',-15,'','','','',-10,'','','','',-5,'','','',''])\n",
    "slop_err_pos = (new_err_position[-1] - new_err_position[-6])/(-1 - (-6))\n",
    "slop_err_vel = (new_err_velocity[-1] - new_err_velocity[-6])/(-1 - (-6))\n",
    "# slop_err_pos_1 = (new_err_position[-2] - new_err_position[-6])/(-2 - (-6))\n",
    "# slop_err_vel_1 = (new_err_velocity[-2] - new_err_velocity[-6])/(-2 - (-6))\n",
    "plt.legend(handles=[err_pos, err_vel])\n",
    "plt.text(-4.2, -2.8, 'Slop_Position_Err=%1.1f'%slop_err_pos)\n",
    "plt.text(-4.2, -3.8, 'Slop_Velocity_Err=%1.1f'%slop_err_vel)\n",
    "# plt.text(-6, -4, 'Slop_Position_Err=%1.1f'%slop_err_pos_1)\n",
    "# plt.text(-6, -4.7, 'Slop_Velocity_Err=%1.1f'%slop_err_vel_1)\n",
    "plt.title(r'Errors by Different $dt$')\n",
    "plt.xlabel(r'$x$ in $dt=10^{x}$')\n",
    "plt.ylabel('Log Errors')\n",
    "plt.grid()\n",
    "plt.savefig('pos_vel_error.png')\n",
    "plt.show()\n",
    "plt.close()"
   ]
  },
  {
   "cell_type": "markdown",
   "metadata": {},
   "source": [
    "### Plot Harmonic Oscillation Position Error and Velocity Erros with Different $dt$"
   ]
  },
  {
   "cell_type": "code",
   "execution_count": 13,
   "metadata": {},
   "outputs": [],
   "source": [
    "# Exact solution of x(t) and v(t) given x_0 and v_0\n",
    "# x(t) = cos(omega * t)\n",
    "# v(t) = -omega * sin(omega * t)\n",
    "\n",
    "omega = 1.0\n",
    "\n",
    "def exact_harmonic_pos_vec(t):\n",
    "    x_t = cos(omega * t)\n",
    "    v_t = -1 * omega * sin(omega * t)\n",
    "    return x_t, v_t"
   ]
  }
 ],
 "metadata": {
  "kernelspec": {
   "display_name": "Python 3",
   "language": "python",
   "name": "python3"
  },
  "language_info": {
   "codemirror_mode": {
    "name": "ipython",
    "version": 3
   },
   "file_extension": ".py",
   "mimetype": "text/x-python",
   "name": "python",
   "nbconvert_exporter": "python",
   "pygments_lexer": "ipython3",
   "version": "3.7.3"
  }
 },
 "nbformat": 4,
 "nbformat_minor": 4
}
