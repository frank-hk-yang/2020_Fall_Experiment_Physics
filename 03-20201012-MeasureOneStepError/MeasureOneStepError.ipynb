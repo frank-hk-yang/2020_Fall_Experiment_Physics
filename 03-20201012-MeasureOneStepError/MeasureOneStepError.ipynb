{
 "cells": [
  {
   "cell_type": "code",
   "execution_count": 2,
   "metadata": {},
   "outputs": [
    {
     "data": {
      "text/plain": [
       "(3.141592653589793, 2.718281828459045)"
      ]
     },
     "execution_count": 2,
     "metadata": {},
     "output_type": "execute_result"
    }
   ],
   "source": [
    "import math\n",
    "from math import cos, sin, log, log10, pi\n",
    "import numpy as np\n",
    "from matplotlib import pyplot as plt\n",
    "pi, math.e"
   ]
  },
  {
   "cell_type": "code",
   "execution_count": 3,
   "metadata": {},
   "outputs": [
    {
     "data": {
      "text/plain": [
       "0.0"
      ]
     },
     "execution_count": 3,
     "metadata": {},
     "output_type": "execute_result"
    }
   ],
   "source": [
    "sin(1) - np.sin(1)"
   ]
  },
  {
   "cell_type": "code",
   "execution_count": 4,
   "metadata": {},
   "outputs": [],
   "source": [
    "# setting\n",
    "mass = 1.0   \n",
    "T_max = 10.0    # final time\n",
    "dt = 0.001        # time step\n",
    "k = 1.0          # force constant"
   ]
  },
  {
   "cell_type": "code",
   "execution_count": 5,
   "metadata": {},
   "outputs": [],
   "source": [
    "def const_force(x):\n",
    "    return 1.0"
   ]
  },
  {
   "cell_type": "code",
   "execution_count": 6,
   "metadata": {},
   "outputs": [],
   "source": [
    "# Harmonic oscillation\n",
    "def force(x):\n",
    "    return -x"
   ]
  },
  {
   "cell_type": "code",
   "execution_count": 7,
   "metadata": {},
   "outputs": [],
   "source": [
    "def varlet_velocity(t=0.0, x=1.0, v=0.0, dt=0.001, t_final=T_max):\n",
    "    x_lst = []\n",
    "    v_lst = []\n",
    "    x_lst.append(x)\n",
    "    v_lst.append(v)\n",
    "    for i in np.arange(t, t_final, dt):\n",
    "        f = force(x)\n",
    "        v = v + f/(2 * mass) * dt\n",
    "        x = x + v * dt\n",
    "        f = force(x)\n",
    "        v = v + f/(2 * mass) * dt\n",
    "#         print(dt, x, v)\n",
    "        x_lst.append(x)\n",
    "        v_lst.append(v)\n",
    "    return x_lst, v_lst"
   ]
  },
  {
   "cell_type": "code",
   "execution_count": 8,
   "metadata": {},
   "outputs": [],
   "source": [
    "x_lst, v_lst = varlet_velocity(dt=dt)"
   ]
  },
  {
   "cell_type": "code",
   "execution_count": 9,
   "metadata": {},
   "outputs": [
    {
     "data": {
      "image/png": "[encoded data removed]",
      "text/plain": [
       "<Figure size 432x288 with 2 Axes>"
      ]
     },
     "metadata": {},
     "output_type": "display_data"
    }
   ],
   "source": [
    "fig, ax1 = plt.subplots()\n",
    "ax1.set_xlabel('time step')\n",
    "# ax1.set_ylabel('position', color='b')\n",
    "pos, = ax1.plot(np.arange(0.0, T_max, dt), x_lst[:-1], label='position', color='steelblue')\n",
    "ax1.tick_params(axis='y', labelcolor='steelblue')\n",
    "\n",
    "ax2 = ax1.twinx()\n",
    "vel, = ax2.plot(np.arange(0.0, T_max, dt), v_lst[:-1], label='velocity', color='darkorange')\n",
    "ax2.tick_params(axis='y', labelcolor='darkorange')\n",
    "plt.legend(handles=[pos, vel])\n",
    "plt.grid(axis='both')\n",
    "plt.savefig('xv.png')\n",
    "plt.show()"
   ]
  },
  {
   "cell_type": "markdown",
   "metadata": {},
   "source": [
    "### Plot Position Error and Velocity Erros with Different $dt$"
   ]
  },
  {
   "cell_type": "code",
   "execution_count": 10,
   "metadata": {},
   "outputs": [],
   "source": [
    "# Define the range of decimal place\n",
    "decimal_place = [-1, -8]"
   ]
  },
  {
   "cell_type": "code",
   "execution_count": 11,
   "metadata": {},
   "outputs": [],
   "source": [
    "def compute_one_step_error(init_time=0.0):\n",
    "    exponent = list(range(decimal_place[0], decimal_place[1], -1))\n",
    "    err_position = []\n",
    "    err_velocity = []\n",
    "    for _ in exponent:\n",
    "        dt = 10**(_)\n",
    "        x, v = exact_harmonic_pos_vec(init_time)\n",
    "        f = force(x)    # force(x) = -x\n",
    "        v = v + f/(2 * mass) * dt\n",
    "        x = x + v * dt\n",
    "        f = force(x)\n",
    "        v = v + f/(2 * mass) * dt\n",
    "        print(dt, x, v)\n",
    "        exact_x, exact_v = exact_harmonic_pos_vec(init_time + dt)\n",
    "        err_x = abs((x - exact_x) / exact_x)\n",
    "        err_v = abs((v - exact_v) / exact_v)\n",
    "        err_position.append(err_x)\n",
    "        err_velocity.append(err_v)\n",
    "    return err_position, err_velocity"
   ]
  },
  {
   "cell_type": "code",
   "execution_count": 14,
   "metadata": {},
   "outputs": [
    {
     "name": "stdout",
     "output_type": "stream",
     "text": [
      "0.1 0.6447075924001529 -0.7642661517279116\n",
      "0.01 0.7109134216911892 -0.7032793590838673\n",
      "0.001 0.7172141754169812 -0.6968528010498707\n",
      "0.0001 0.7178410524975272 -0.6962070262134622\n",
      "1e-05 0.7179037082226615 -0.6961424176992458\n",
      "1e-06 0.7179099734753457 -0.6961359565376782\n",
      "1e-07 0.7179105999974158 -0.6961353104184201\n"
     ]
    },
    {
     "data": {
      "text/plain": [
       "([0.00018447571731888943,\n",
       "  1.6362199040440447e-07,\n",
       "  1.6181010484941555e-10,\n",
       "  1.617758248455324e-13,\n",
       "  3.0929580441192395e-16,\n",
       "  1.5464655258244347e-16,\n",
       "  1.5464641762207616e-16],\n",
       " [8.214434198691072e-05,\n",
       "  8.548031012086249e-08,\n",
       "  8.58931738808912e-11,\n",
       "  8.595291166875282e-14,\n",
       "  3.1896433729593694e-16,\n",
       "  1.5948364887614676e-16,\n",
       "  1.5948379690118635e-16])"
      ]
     },
     "execution_count": 14,
     "metadata": {},
     "output_type": "execute_result"
    }
   ],
   "source": [
    "# 0.77\n",
    "err_position, err_velocity = compute_one_step_error(init_time=0.77)\n",
    "err_position, err_velocity"
   ]
  },
  {
   "cell_type": "code",
   "execution_count": 23,
   "metadata": {},
   "outputs": [
    {
     "data": {
      "image/png": "[encoded data removed]",
      "text/plain": [
       "<Figure size 432x288 with 1 Axes>"
      ]
     },
     "metadata": {
      "needs_background": "light"
     },
     "output_type": "display_data"
    }
   ],
   "source": [
    "# new_e = e[::-1]\n",
    "new_e = list(range(decimal_place[0], decimal_place[1], -1))[::-1]\n",
    "new_err_position = [log10(_) for _ in err_position][::-1]\n",
    "new_err_velocity = [log10(_) for _ in err_velocity][::-1]\n",
    "err_pos, = plt.plot(new_e, new_err_position, color='steelblue', label=r'Position Error')\n",
    "err_vel, = plt.plot(new_e, new_err_velocity, color='darkorange', label=r'Velocity Error')\n",
    "\n",
    "######\n",
    "# error bwteen numerical at (T_max - dt) and exact at T_max\n",
    "######\n",
    "# tt_new_err_position = [log10(_) for _ in test_pos_err][::-1]\n",
    "# tt_new_err_velocity = [log10(_) for _ in test_vel_err][::-1]\n",
    "# tt_err_pos, = plt.plot(new_e, tt_new_err_position, color='blue', label=r'Test Position Error')\n",
    "# tt_err_vel, = plt.plot(new_e, tt_new_err_velocity, color='red', label=r'Test Velocity Error')\n",
    "\n",
    "# plt.xticks(np.arange(-20, 1, 1), \\\n",
    "#            labels=[-20,'','','','',-15,'','','','',-10,'','','','',-5,'','','',''])\n",
    "x_big = -1\n",
    "x_small = -4\n",
    "slop_err_pos = (new_err_position[x_big] - new_err_position[x_small])/(x_big - x_small)\n",
    "slop_err_vel = (new_err_velocity[x_big] - new_err_velocity[x_small])/(x_big - x_small)\n",
    "# slop_err_pos_1 = (new_err_position[-2] - new_err_position[-6])/(-2 - (-6))\n",
    "# slop_err_vel_1 = (new_err_velocity[-2] - new_err_velocity[-6])/(-2 - (-6))\n",
    "plt.legend(handles=[err_pos, err_vel])\n",
    "text_x = min(new_e) + (max(new_e) - min(new_e)) * 0.35\n",
    "text_y_1 = (max(new_err_velocity) - min(new_err_position)) * 0.90 + min(new_err_position)\n",
    "text_y_2 = (max(new_err_velocity) - min(new_err_position)) * 0.80 + min(new_err_position)\n",
    "plt.text(text_x, text_y_1, 'Slop_Position_Err=%1.1f'%slop_err_pos)\n",
    "plt.text(text_x, text_y_2, 'Slop_Velocity_Err=%1.1f'%slop_err_vel)\n",
    "# plt.text(-6, -4, 'Slop_Position_Err=%1.1f'%slop_err_pos_1)\n",
    "# plt.text(-6, -4.7, 'Slop_Velocity_Err=%1.1f'%slop_err_vel_1)\n",
    "plt.title(r'Errors by Different $dt$')\n",
    "plt.xlabel(r'$x$ in $dt=10^{x}$')\n",
    "plt.ylabel('Log Errors')\n",
    "plt.grid()\n",
    "plt.savefig('pos_vel_error.png')\n",
    "plt.show()\n",
    "plt.close()"
   ]
  },
  {
   "cell_type": "markdown",
   "metadata": {},
   "source": [
    "### Plot Harmonic Oscillation Position Error and Velocity Erros with Different $dt$"
   ]
  },
  {
   "cell_type": "code",
   "execution_count": 13,
   "metadata": {},
   "outputs": [],
   "source": [
    "# Exact solution of x(t) and v(t) given x_0 and v_0\n",
    "# x(t) = cos(omega * t)\n",
    "# v(t) = -omega * sin(omega * t)\n",
    "\n",
    "omega = 1.0\n",
    "\n",
    "def exact_harmonic_pos_vec(t):\n",
    "    x_t = cos(omega * t)\n",
    "    v_t = -1 * omega * sin(omega * t)\n",
    "    return x_t, v_t"
   ]
  }
 ],
 "metadata": {
  "kernelspec": {
   "display_name": "Python 3",
   "language": "python",
   "name": "python3"
  },
  "language_info": {
   "codemirror_mode": {
    "name": "ipython",
    "version": 3
   },
   "file_extension": ".py",
   "mimetype": "text/x-python",
   "name": "python",
   "nbconvert_exporter": "python",
   "pygments_lexer": "ipython3",
   "version": "3.7.3"
  }
 },
 "nbformat": 4,
 "nbformat_minor": 4
}
