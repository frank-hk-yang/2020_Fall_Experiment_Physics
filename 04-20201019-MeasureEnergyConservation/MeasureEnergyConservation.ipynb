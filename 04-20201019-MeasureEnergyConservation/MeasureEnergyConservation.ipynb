{
 "cells": [
  {
   "cell_type": "code",
   "execution_count": 147,
   "metadata": {},
   "outputs": [
    {
     "data": {
      "text/plain": [
       "(3.141592653589793, 2.718281828459045)"
      ]
     },
     "execution_count": 147,
     "metadata": {},
     "output_type": "execute_result"
    }
   ],
   "source": [
    "import math\n",
    "from math import cos, sin, log, log10, pi\n",
    "from decimal import Decimal as D\n",
    "import numpy as np\n",
    "from matplotlib import pyplot as plt\n",
    "pi, math.e"
   ]
  },
  {
   "cell_type": "code",
   "execution_count": 107,
   "metadata": {},
   "outputs": [],
   "source": [
    "# setting\n",
    "mass = 1.0   \n",
    "T_max = 10.0    # final time\n",
    "dt = 0.001        # time step\n",
    "k = 1.0          # force constant"
   ]
  },
  {
   "cell_type": "code",
   "execution_count": 7,
   "metadata": {},
   "outputs": [],
   "source": [
    "def const_force(x):\n",
    "    return 1.0"
   ]
  },
  {
   "cell_type": "code",
   "execution_count": 8,
   "metadata": {},
   "outputs": [],
   "source": [
    "# Harmonic oscillation\n",
    "def force(x):\n",
    "    return -x"
   ]
  },
  {
   "cell_type": "code",
   "execution_count": 261,
   "metadata": {},
   "outputs": [
    {
     "data": {
      "text/plain": [
       "(range(0, 10000),\n",
       " Decimal('0.0899999999999999966693309261245303787291049957275390625'),\n",
       " 0.09,\n",
       " Decimal('0.009000000000000001054711873393898713402450084686279296875'),\n",
       " 0.009000000000000001,\n",
       " Decimal('0.009000000000000001054711873393898713402450084686279296875'),\n",
       " 0.009000000000000001)"
      ]
     },
     "execution_count": 261,
     "metadata": {},
     "output_type": "execute_result"
    }
   ],
   "source": [
    "range(int((10.0 - 0.0)/0.001)),\\\n",
    "D(90*0.001), 90*0.001,\\\n",
    "D(9*0.001), 9*0.001,\\\n",
    "D(90*0.0001), 90*0.0001,\\"
   ]
  },
  {
   "cell_type": "code",
   "execution_count": 203,
   "metadata": {},
   "outputs": [],
   "source": [
    "def varlet_velocity(t=0.0, x=1.0, v=0.0, dt=0.001, t_final=T_max):\n",
    "    # Must ensure it can run single step calculation.\n",
    "    # That is, when t = t_0, t_final = t_0 + dt, the result must be correct.\n",
    "    \n",
    "    x_lst = []\n",
    "    v_lst = []\n",
    "    x_lst.append(x)\n",
    "    v_lst.append(v)\n",
    "    \n",
    "    time = D(str(t))\n",
    "    t_final = D(str(t_final))\n",
    "    dt_t = D(str(dt))\n",
    "    \n",
    "    # Warning 1: never use np.arange to iterate over float steps\n",
    "    # because sometimes it will abnormaly include stop condition,\n",
    "    # which is the result that we do not want it happen.\n",
    "    #\n",
    "    # Warning 2: even if you add step size to time iteratively,\n",
    "    # there is still an inherent error, i.e. floating-point approximation\n",
    "    # error, which is due to the non-exact representation from\n",
    "    # the binary floating point standard(IEEE-754). The workaround\n",
    "    # is to use the decimal.Decimal(str(float_number)) in iteration.\n",
    "    \n",
    "    while (time < t_final):\n",
    "        time += dt_t\n",
    "        f = force(x)\n",
    "        v = v + f/(2 * mass) * dt\n",
    "        x = x + v * dt\n",
    "        f = force(x)\n",
    "        v = v + f/(2 * mass) * dt\n",
    "#         print(dt, x, v)\n",
    "        x_lst.append(x)\n",
    "        v_lst.append(v)\n",
    "    return x_lst, v_lst"
   ]
  },
  {
   "cell_type": "code",
   "execution_count": 175,
   "metadata": {},
   "outputs": [
    {
     "data": {
      "text/plain": [
       "10001"
      ]
     },
     "execution_count": 175,
     "metadata": {},
     "output_type": "execute_result"
    }
   ],
   "source": [
    "x_lst, v_lst = varlet_velocity(dt=dt)\n",
    "len(x_lst)"
   ]
  },
  {
   "cell_type": "code",
   "execution_count": 176,
   "metadata": {},
   "outputs": [
    {
     "data": {
      "image/png": "[encoded data removed]",
      "text/plain": [
       "<Figure size 432x288 with 2 Axes>"
      ]
     },
     "metadata": {},
     "output_type": "display_data"
    }
   ],
   "source": [
    "fig, ax1 = plt.subplots()\n",
    "ax1.set_xlabel('time step')\n",
    "# ax1.set_ylabel('position', color='b')\n",
    "pos, = ax1.plot(np.arange(0.0, T_max, dt), x_lst[:-1], label='position', color='steelblue')\n",
    "ax1.tick_params(axis='y', labelcolor='steelblue')\n",
    "\n",
    "ax2 = ax1.twinx()\n",
    "vel, = ax2.plot(np.arange(0.0, T_max, dt), v_lst[:-1], label='velocity', color='darkorange')\n",
    "ax2.tick_params(axis='y', labelcolor='darkorange')\n",
    "plt.legend(handles=[pos, vel])\n",
    "plt.grid(axis='both')\n",
    "plt.savefig('xv.png')\n",
    "plt.show()"
   ]
  },
  {
   "cell_type": "code",
   "execution_count": 42,
   "metadata": {},
   "outputs": [],
   "source": [
    "# Define the range of decimal place\n",
    "decimal_place = [-1, -8]"
   ]
  },
  {
   "cell_type": "markdown",
   "metadata": {},
   "source": [
    "### Plot Harmonic Oscillation Position Error and Velocity Erros with Different $dt$"
   ]
  },
  {
   "cell_type": "code",
   "execution_count": 16,
   "metadata": {},
   "outputs": [],
   "source": [
    "# Exact solution of x(t) and v(t) given x_0 and v_0\n",
    "# x(t) = cos(omega * t)\n",
    "# v(t) = -omega * sin(omega * t)\n",
    "\n",
    "omega = 1.0\n",
    "\n",
    "def exact_harmonic_pos_vec(t):\n",
    "    x_t = cos(omega * t)\n",
    "    v_t = -1 * omega * sin(omega * t)\n",
    "    return x_t, v_t"
   ]
  },
  {
   "cell_type": "markdown",
   "metadata": {},
   "source": [
    "### Harmonic Oscillation Energy\n",
    "##### $E=\\frac{1}{2}kx^2+\\frac{1}{2}mv^2$"
   ]
  },
  {
   "cell_type": "code",
   "execution_count": 19,
   "metadata": {},
   "outputs": [],
   "source": [
    "def harmonic_energy(x, v, k=1, m=1):\n",
    "    energy = 0.5 * k * (x**2) + 0.5 * m * (v**2)\n",
    "    return energy"
   ]
  },
  {
   "cell_type": "code",
   "execution_count": 26,
   "metadata": {},
   "outputs": [
    {
     "data": {
      "text/plain": [
       "0.0"
      ]
     },
     "execution_count": 26,
     "metadata": {},
     "output_type": "execute_result"
    }
   ],
   "source": [
    "x, v = exact_harmonic_pos_vec(10)\n",
    "(harmonic_energy(1,0) - harmonic_energy(x, v))"
   ]
  },
  {
   "cell_type": "code",
   "execution_count": 209,
   "metadata": {},
   "outputs": [],
   "source": [
    "def compute_one_step_energy_error(init_time=0.0):\n",
    "    exponent = list(range(decimal_place[0], decimal_place[1], -1))\n",
    "    err_energy = []\n",
    "    for _ in exponent:\n",
    "        dt = 10**(_)\n",
    "        x, v = exact_harmonic_pos_vec(init_time)\n",
    "        E_0 = harmonic_energy(x, v)    # initial energy\n",
    "        \n",
    "        ### begin of varlet velocity method\n",
    "#         f = force(x)    # force(x) = -x\n",
    "#         v = v + f/(2 * mass) * dt\n",
    "#         x = x + v * dt\n",
    "#         f = force(x)\n",
    "#         v = v + f/(2 * mass) * dt\n",
    "        ### end of varlet velocity method\n",
    "        \n",
    "        x_l, v_l = varlet_velocity(t=init_time, x=x, v=v,\\\n",
    "                                  dt=dt, t_final=init_time+dt)\n",
    "        x, v = x_l[-1], v_l[-1]\n",
    "        \n",
    "        print(dt, x, v)\n",
    "        E_1 = harmonic_energy(x, v)\n",
    "        err_E = abs((E_1 - E_0) / E_0)\n",
    "        err_energy.append(err_E)\n",
    "    return err_energy"
   ]
  },
  {
   "cell_type": "code",
   "execution_count": 61,
   "metadata": {},
   "outputs": [
    {
     "name": "stdout",
     "output_type": "stream",
     "text": [
      "0.1 0.7899002156662607 -0.6130439642548673\n",
      "0.01 0.8419008862786566 -0.5396319779073437\n",
      "0.001 0.8467235011879397 -0.5320331872269841\n",
      "0.0001 0.8472019881573485 -0.5312709207758419\n",
      "1e-05 0.8472497991090742 -0.531194670445434\n",
      "1e-06 0.8472545798267945 -0.5311870451757288\n",
      "1e-07 0.847255057894792 -0.5311862826463918\n"
     ]
    },
    {
     "data": {
      "text/plain": [
       "[0.00023474718107185932,\n",
       " 2.2610302075065647e-07,\n",
       " 2.2513391151335327e-10,\n",
       " 2.2515322939398175e-13,\n",
       " 2.220446049250313e-16,\n",
       " 1.1102230246251565e-16,\n",
       " 2.220446049250313e-16]"
      ]
     },
     "execution_count": 61,
     "metadata": {},
     "output_type": "execute_result"
    }
   ],
   "source": [
    "err_energy = compute_one_step_energy_error(init_time=0.56)\n",
    "err_energy"
   ]
  },
  {
   "cell_type": "code",
   "execution_count": 200,
   "metadata": {},
   "outputs": [
    {
     "name": "stdout",
     "output_type": "stream",
     "text": [
      "0.1 0.6447075924001529 -0.7642661517279116\n",
      "0.01 0.7109134216911892 -0.7032793590838673\n",
      "0.001 0.7172141754169812 -0.6968528010498707\n",
      "0.0001 0.7178410524975272 -0.6962070262134622\n",
      "1e-05 0.7179037082226615 -0.6961424176992458\n",
      "1e-06 0.7179099734753457 -0.6961359565376782\n",
      "1e-07 0.7179105999974158 -0.6961353104184201\n"
     ]
    },
    {
     "data": {
      "text/plain": [
       "[0.00024936962460719864,\n",
       " 2.499459100802071e-07,\n",
       " 2.498888873603278e-10,\n",
       " 2.499112028431228e-13,\n",
       " 4.440892098500627e-16,\n",
       " 1.1102230246251568e-16,\n",
       " 1.1102230246251568e-16]"
      ]
     },
     "execution_count": 200,
     "metadata": {},
     "output_type": "execute_result"
    }
   ],
   "source": [
    "err_en = compute_one_step_energy_error(init_time=0.77)\n",
    "err_en"
   ]
  },
  {
   "cell_type": "code",
   "execution_count": 214,
   "metadata": {},
   "outputs": [],
   "source": [
    "def compute_multi_step_energy_error(init_time=0.0, t_final=T_max):\n",
    "    exponent = list(range(decimal_place[0], decimal_place[1], -1))\n",
    "    err_energy = []\n",
    "    for _ in exponent:\n",
    "        dt = 10**(_)\n",
    "        x, v = exact_harmonic_pos_vec(init_time)\n",
    "        E_0 = harmonic_energy(x, v)    # initial energy\n",
    "        \n",
    "        ### begin of varlet velocity method\n",
    "#         f = force(x)    # force(x) = -x\n",
    "#         v = v + f/(2 * mass) * dt\n",
    "#         x = x + v * dt\n",
    "#         f = force(x)\n",
    "#         v = v + f/(2 * mass) * dt\n",
    "        ### end of varlet velocity method\n",
    "        \n",
    "        x_l, v_l = varlet_velocity(t=init_time, x=x, v=v,\\\n",
    "                                  dt=dt, t_final=t_final)\n",
    "        x, v = x_l[-1], v_l[-1]\n",
    "        \n",
    "        print(dt, x, v)\n",
    "        E_1 = harmonic_energy(x, v)\n",
    "        err_E = abs((E_1 - E_0) / E_0)\n",
    "        err_energy.append(err_E)\n",
    "    return err_energy"
   ]
  },
  {
   "cell_type": "code",
   "execution_count": 262,
   "metadata": {},
   "outputs": [
    {
     "name": "stdout",
     "output_type": "stream",
     "text": [
      "0.1 -0.8370520654021997 0.5473874507857964\n",
      "0.01 -0.8390514492971989 0.5440548143582076\n",
      "0.001 -0.8390713282901191 0.5440214479280427\n",
      "0.0001 -0.8390715270685993 0.5440211142597288\n",
      "1e-05 -0.8390715290564441 0.5440211109230695\n",
      "1e-06 -0.8390715290761648 0.5440211108894453\n",
      "1e-07 -0.8390715290762818 0.5440211108885087\n"
     ]
    },
    {
     "data": {
      "text/plain": [
       "[0.00028918147186107745,\n",
       " 2.9755940735842756e-06,\n",
       " 2.9764269049437075e-08,\n",
       " 2.976281443523021e-10,\n",
       " 3.0897506775318107e-12,\n",
       " 4.005684672847565e-13,\n",
       " 1.22335475083446e-12]"
      ]
     },
     "execution_count": 262,
     "metadata": {},
     "output_type": "execute_result"
    }
   ],
   "source": [
    "err_mul_en = compute_multi_step_energy_error(init_time=0.7)\n",
    "err_mul_en"
   ]
  },
  {
   "cell_type": "markdown",
   "metadata": {},
   "source": [
    "### Plot Energy Error with Different $dt$"
   ]
  },
  {
   "cell_type": "code",
   "execution_count": 220,
   "metadata": {},
   "outputs": [
    {
     "data": {
      "image/png": "[encoded data removed]",
      "text/plain": [
       "<Figure size 432x288 with 1 Axes>"
      ]
     },
     "metadata": {
      "needs_background": "light"
     },
     "output_type": "display_data"
    }
   ],
   "source": [
    "# new_e = e[::-1]\n",
    "new_e = list(range(decimal_place[0], decimal_place[1], -1))[::-1]\n",
    "new_err_energy = [log10(_) for _ in err_en][::-1]\n",
    "err_engy, = plt.plot(new_e, new_err_energy, color='steelblue', label=r'Energy Error')\n",
    "\n",
    "x_big = -1\n",
    "x_small = -4\n",
    "slop_err_engy = (new_err_energy[x_big] - new_err_energy[x_small])/(x_big - x_small)\n",
    "\n",
    "plt.legend(handles=[err_engy])\n",
    "text_x = min(new_e) + (max(new_e) - min(new_e)) * 0.35\n",
    "text_y_1 = (max(new_err_energy) - min(new_err_energy)) * 0.90 + min(new_err_energy)\n",
    "plt.text(text_x, text_y_1, 'Slop_Energy_Err=%1.1f'%slop_err_engy)\n",
    "plt.title(r'Errors by Different $dt$')\n",
    "plt.xlabel(r'$x$ in $dt=10^{x}$')\n",
    "plt.ylabel('Log Errors')\n",
    "plt.grid()\n",
    "plt.savefig('energy_error.png')\n",
    "plt.show()\n",
    "plt.close()"
   ]
  },
  {
   "cell_type": "markdown",
   "metadata": {},
   "source": [
    "### Plot Multi Steps Energy Error with Different $dt$"
   ]
  },
  {
   "cell_type": "code",
   "execution_count": 263,
   "metadata": {},
   "outputs": [
    {
     "data": {
      "image/png": "[encoded data removed]",
      "text/plain": [
       "<Figure size 432x288 with 1 Axes>"
      ]
     },
     "metadata": {
      "needs_background": "light"
     },
     "output_type": "display_data"
    }
   ],
   "source": [
    "# new_e = e[::-1]\n",
    "new_e = list(range(decimal_place[0], decimal_place[1], -1))[::-1]\n",
    "new_err_energy = [log10(_) for _ in err_mul_en][::-1]\n",
    "err_engy, = plt.plot(new_e, new_err_energy, color='steelblue', label=r'Energy Error')\n",
    "\n",
    "x_big = -1\n",
    "x_small = -5\n",
    "slop_err_engy = (new_err_energy[x_big] - new_err_energy[x_small])/(x_big - x_small)\n",
    "\n",
    "plt.legend(handles=[err_engy])\n",
    "text_x = min(new_e) + (max(new_e) - min(new_e)) * 0.35\n",
    "text_y_1 = (max(new_err_energy) - min(new_err_energy)) * 0.90 + min(new_err_energy)\n",
    "plt.text(text_x, text_y_1, 'Slop_Energy_Err=%1.1f'%slop_err_engy)\n",
    "plt.title(r'Errors by Different $dt$')\n",
    "plt.xlabel(r'$x$ in $dt=10^{x}$')\n",
    "plt.ylabel('Log Errors')\n",
    "plt.grid()\n",
    "plt.savefig('energy_mult_step_error.png')\n",
    "plt.show()\n",
    "plt.close()"
   ]
  }
 ],
 "metadata": {
  "kernelspec": {
   "display_name": "Python 3",
   "language": "python",
   "name": "python3"
  },
  "language_info": {
   "codemirror_mode": {
    "name": "ipython",
    "version": 3
   },
   "file_extension": ".py",
   "mimetype": "text/x-python",
   "name": "python",
   "nbconvert_exporter": "python",
   "pygments_lexer": "ipython3",
   "version": "3.7.3"
  }
 },
 "nbformat": 4,
 "nbformat_minor": 4
}
